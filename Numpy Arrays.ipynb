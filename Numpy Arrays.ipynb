{
 "cells": [
  {
   "cell_type": "code",
   "execution_count": 1,
   "id": "817a5a3d",
   "metadata": {},
   "outputs": [],
   "source": [
    "import numpy as np"
   ]
  },
  {
   "cell_type": "code",
   "execution_count": 2,
   "id": "3140cf7c",
   "metadata": {},
   "outputs": [],
   "source": [
    "x=[1,2,3,4,5]"
   ]
  },
  {
   "cell_type": "code",
   "execution_count": 3,
   "id": "5986ecaa",
   "metadata": {},
   "outputs": [
    {
     "data": {
      "text/plain": [
       "list"
      ]
     },
     "execution_count": 3,
     "metadata": {},
     "output_type": "execute_result"
    }
   ],
   "source": [
    "type(x)"
   ]
  },
  {
   "cell_type": "code",
   "execution_count": 4,
   "id": "010927fe",
   "metadata": {},
   "outputs": [],
   "source": [
    "# We use the np.array function to convert this list into array"
   ]
  },
  {
   "cell_type": "code",
   "execution_count": 8,
   "id": "1a4d61c7",
   "metadata": {},
   "outputs": [],
   "source": [
    "arr=np.array(x)"
   ]
  },
  {
   "cell_type": "code",
   "execution_count": 9,
   "id": "85f411bc",
   "metadata": {},
   "outputs": [
    {
     "data": {
      "text/plain": [
       "array([1, 2, 3, 4, 5])"
      ]
     },
     "execution_count": 9,
     "metadata": {},
     "output_type": "execute_result"
    }
   ],
   "source": [
    "arr"
   ]
  },
  {
   "cell_type": "code",
   "execution_count": 10,
   "id": "26f338bf",
   "metadata": {},
   "outputs": [
    {
     "data": {
      "text/plain": [
       "numpy.ndarray"
      ]
     },
     "execution_count": 10,
     "metadata": {},
     "output_type": "execute_result"
    }
   ],
   "source": [
    "type(arr)"
   ]
  },
  {
   "cell_type": "code",
   "execution_count": null,
   "id": "b6c3bf19",
   "metadata": {},
   "outputs": [],
   "source": [
    "# We we want range of values in the array we use 'arange' function/operation"
   ]
  },
  {
   "cell_type": "code",
   "execution_count": 11,
   "id": "7a58283c",
   "metadata": {},
   "outputs": [
    {
     "data": {
      "text/plain": [
       "array([ 1,  2,  3,  4,  5,  6,  7,  8,  9, 10, 11, 12, 13, 14])"
      ]
     },
     "execution_count": 11,
     "metadata": {},
     "output_type": "execute_result"
    }
   ],
   "source": [
    "np.arange(1,15) "
   ]
  },
  {
   "cell_type": "code",
   "execution_count": 12,
   "id": "2c3e2061",
   "metadata": {},
   "outputs": [
    {
     "data": {
      "text/plain": [
       "array([1, 3, 5, 7, 9])"
      ]
     },
     "execution_count": 12,
     "metadata": {},
     "output_type": "execute_result"
    }
   ],
   "source": [
    "np.arange(1,11,2) # There will be difference of 2 in the elements fro 1 to 10 i.e 3-1=2 and so"
   ]
  },
  {
   "cell_type": "code",
   "execution_count": 14,
   "id": "c6135ad4",
   "metadata": {},
   "outputs": [
    {
     "data": {
      "text/plain": [
       "array([ 1,  4,  7, 10])"
      ]
     },
     "execution_count": 14,
     "metadata": {},
     "output_type": "execute_result"
    }
   ],
   "source": [
    "np.arange(1,11,3)"
   ]
  },
  {
   "cell_type": "code",
   "execution_count": 15,
   "id": "9e931eb0",
   "metadata": {},
   "outputs": [
    {
     "data": {
      "text/plain": [
       "array([[0., 0., 0., 0.],\n",
       "       [0., 0., 0., 0.]])"
      ]
     },
     "execution_count": 15,
     "metadata": {},
     "output_type": "execute_result"
    }
   ],
   "source": [
    "np.zeros((2,4))  # two dimensonal array with two rows and four columns , we use zeros function so it will give this."
   ]
  },
  {
   "cell_type": "code",
   "execution_count": 16,
   "id": "0c8be2d8",
   "metadata": {},
   "outputs": [
    {
     "data": {
      "text/plain": [
       "array([[1., 1., 1., 1., 1., 1., 1.],\n",
       "       [1., 1., 1., 1., 1., 1., 1.]])"
      ]
     },
     "execution_count": 16,
     "metadata": {},
     "output_type": "execute_result"
    }
   ],
   "source": [
    "np.ones((2,7))"
   ]
  },
  {
   "cell_type": "code",
   "execution_count": null,
   "id": "0538b63e",
   "metadata": {},
   "outputs": [],
   "source": [
    "# when we want to generate some random numbers in the array so we use random.randint function where we specify the range and \n",
    "# how many random no. we want to gerenate."
   ]
  },
  {
   "cell_type": "code",
   "execution_count": 24,
   "id": "cf1af5f4",
   "metadata": {},
   "outputs": [],
   "source": [
    "arr1= np.random.randint(1,1000,50)"
   ]
  },
  {
   "cell_type": "code",
   "execution_count": 25,
   "id": "5da9209b",
   "metadata": {},
   "outputs": [
    {
     "data": {
      "text/plain": [
       "array([553, 303, 548, 457, 916, 525, 439, 935, 356, 347, 259, 526, 646,\n",
       "       312, 162, 273, 156, 504, 872, 521, 530,  26, 592,   2, 842, 561,\n",
       "       190, 929, 585, 724, 965, 225, 912, 645, 921, 182, 647,   3, 293,\n",
       "       652, 314,  67, 527, 373, 667, 716, 122, 828, 576, 312])"
      ]
     },
     "execution_count": 25,
     "metadata": {},
     "output_type": "execute_result"
    }
   ],
   "source": [
    "arr1"
   ]
  },
  {
   "cell_type": "code",
   "execution_count": null,
   "id": "2f31a23b",
   "metadata": {},
   "outputs": [],
   "source": [
    "# when we execute this so everytime it will give us different random numbers "
   ]
  },
  {
   "cell_type": "code",
   "execution_count": 32,
   "id": "55dfb17a",
   "metadata": {},
   "outputs": [],
   "source": [
    "arr1= np.random.randint(1,1000,50)"
   ]
  },
  {
   "cell_type": "code",
   "execution_count": 33,
   "id": "a44f727a",
   "metadata": {},
   "outputs": [
    {
     "data": {
      "text/plain": [
       "array([964, 220, 702, 761, 291, 438, 159,  56, 530, 708, 118, 622, 649,\n",
       "       442, 807, 142, 838,  88,  70, 242,  53, 642,  50,   4, 279, 668,\n",
       "       344, 867, 452, 510, 618, 642, 505, 319, 420, 920, 436,  96, 756,\n",
       "       478, 341, 789, 510, 795, 309, 638, 913, 175, 753, 996])"
      ]
     },
     "execution_count": 33,
     "metadata": {},
     "output_type": "execute_result"
    }
   ],
   "source": [
    "arr1"
   ]
  },
  {
   "cell_type": "code",
   "execution_count": null,
   "id": "2fe5c6dd",
   "metadata": {},
   "outputs": [],
   "source": [
    "# So as we perform different operations and functions on this it will be problamatic so we use 'random.seed function' and \n",
    "# pass some arbitary value so it will not gonna change the value on execution and random no.s will remain constant"
   ]
  },
  {
   "cell_type": "code",
   "execution_count": 30,
   "id": "abe08cc9",
   "metadata": {},
   "outputs": [],
   "source": [
    "np.random.seed(51)\n",
    "arr1= np.random.randint(1,1000,50)"
   ]
  },
  {
   "cell_type": "code",
   "execution_count": 31,
   "id": "27bce68f",
   "metadata": {},
   "outputs": [
    {
     "data": {
      "text/plain": [
       "array([ 58, 486, 737, 970, 710, 529, 918, 735, 437, 362, 934, 635, 879,\n",
       "       550, 573, 863,  29, 853, 677, 164, 924, 999,  29, 427, 885, 907,\n",
       "         7, 794, 418, 462, 501, 936, 305,  25, 681,  55, 718, 885,  29,\n",
       "       838, 570, 787, 192,  76, 708, 253, 351, 472, 904, 766])"
      ]
     },
     "execution_count": 31,
     "metadata": {},
     "output_type": "execute_result"
    }
   ],
   "source": [
    "arr1"
   ]
  },
  {
   "cell_type": "code",
   "execution_count": 34,
   "id": "813cbfb5",
   "metadata": {},
   "outputs": [],
   "source": [
    "np.random.seed(51)\n",
    "arr1= np.random.randint(1,1000,50)"
   ]
  },
  {
   "cell_type": "code",
   "execution_count": 35,
   "id": "b9001183",
   "metadata": {},
   "outputs": [
    {
     "data": {
      "text/plain": [
       "array([ 58, 486, 737, 970, 710, 529, 918, 735, 437, 362, 934, 635, 879,\n",
       "       550, 573, 863,  29, 853, 677, 164, 924, 999,  29, 427, 885, 907,\n",
       "         7, 794, 418, 462, 501, 936, 305,  25, 681,  55, 718, 885,  29,\n",
       "       838, 570, 787, 192,  76, 708, 253, 351, 472, 904, 766])"
      ]
     },
     "execution_count": 35,
     "metadata": {},
     "output_type": "execute_result"
    }
   ],
   "source": [
    "arr1"
   ]
  },
  {
   "cell_type": "code",
   "execution_count": null,
   "id": "3380bfd5",
   "metadata": {},
   "outputs": [],
   "source": [
    "# until now arr1 is of one dim array so if we want to convert it into 2d array we use 'reshape' function "
   ]
  },
  {
   "cell_type": "code",
   "execution_count": 36,
   "id": "5e8ba462",
   "metadata": {},
   "outputs": [
    {
     "data": {
      "text/plain": [
       "array([[ 58, 486, 737, 970, 710, 529, 918, 735, 437, 362],\n",
       "       [934, 635, 879, 550, 573, 863,  29, 853, 677, 164],\n",
       "       [924, 999,  29, 427, 885, 907,   7, 794, 418, 462],\n",
       "       [501, 936, 305,  25, 681,  55, 718, 885,  29, 838],\n",
       "       [570, 787, 192,  76, 708, 253, 351, 472, 904, 766]])"
      ]
     },
     "execution_count": 36,
     "metadata": {},
     "output_type": "execute_result"
    }
   ],
   "source": [
    "arr1.reshape(5,10)"
   ]
  },
  {
   "cell_type": "code",
   "execution_count": 37,
   "id": "a9951827",
   "metadata": {},
   "outputs": [
    {
     "data": {
      "text/plain": [
       "array([[ 58, 486, 737, 970, 710],\n",
       "       [529, 918, 735, 437, 362],\n",
       "       [934, 635, 879, 550, 573],\n",
       "       [863,  29, 853, 677, 164],\n",
       "       [924, 999,  29, 427, 885],\n",
       "       [907,   7, 794, 418, 462],\n",
       "       [501, 936, 305,  25, 681],\n",
       "       [ 55, 718, 885,  29, 838],\n",
       "       [570, 787, 192,  76, 708],\n",
       "       [253, 351, 472, 904, 766]])"
      ]
     },
     "execution_count": 37,
     "metadata": {},
     "output_type": "execute_result"
    }
   ],
   "source": [
    "arr1.reshape(10,5)"
   ]
  },
  {
   "cell_type": "code",
   "execution_count": 38,
   "id": "2b05493d",
   "metadata": {},
   "outputs": [
    {
     "ename": "ValueError",
     "evalue": "cannot reshape array of size 50 into shape (10,10)",
     "output_type": "error",
     "traceback": [
      "\u001b[1;31m---------------------------------------------------------------------------\u001b[0m",
      "\u001b[1;31mValueError\u001b[0m                                Traceback (most recent call last)",
      "Cell \u001b[1;32mIn[38], line 1\u001b[0m\n\u001b[1;32m----> 1\u001b[0m \u001b[43marr1\u001b[49m\u001b[38;5;241;43m.\u001b[39;49m\u001b[43mreshape\u001b[49m\u001b[43m(\u001b[49m\u001b[38;5;241;43m10\u001b[39;49m\u001b[43m,\u001b[49m\u001b[38;5;241;43m10\u001b[39;49m\u001b[43m)\u001b[49m\n",
      "\u001b[1;31mValueError\u001b[0m: cannot reshape array of size 50 into shape (10,10)"
     ]
    }
   ],
   "source": [
    "arr1.reshape(10,10)"
   ]
  },
  {
   "cell_type": "code",
   "execution_count": 39,
   "id": "3199a3e6",
   "metadata": {},
   "outputs": [
    {
     "ename": "ValueError",
     "evalue": "cannot reshape array of size 50 into shape (5,5)",
     "output_type": "error",
     "traceback": [
      "\u001b[1;31m---------------------------------------------------------------------------\u001b[0m",
      "\u001b[1;31mValueError\u001b[0m                                Traceback (most recent call last)",
      "Cell \u001b[1;32mIn[39], line 1\u001b[0m\n\u001b[1;32m----> 1\u001b[0m \u001b[43marr1\u001b[49m\u001b[38;5;241;43m.\u001b[39;49m\u001b[43mreshape\u001b[49m\u001b[43m(\u001b[49m\u001b[38;5;241;43m5\u001b[39;49m\u001b[43m,\u001b[49m\u001b[38;5;241;43m5\u001b[39;49m\u001b[43m)\u001b[49m\n",
      "\u001b[1;31mValueError\u001b[0m: cannot reshape array of size 50 into shape (5,5)"
     ]
    }
   ],
   "source": [
    "arr1.reshape(5,5)"
   ]
  },
  {
   "cell_type": "code",
   "execution_count": null,
   "id": "72179fbb",
   "metadata": {},
   "outputs": [],
   "source": []
  },
  {
   "cell_type": "code",
   "execution_count": null,
   "id": "c6a9b750",
   "metadata": {},
   "outputs": [],
   "source": []
  },
  {
   "cell_type": "code",
   "execution_count": null,
   "id": "df346510",
   "metadata": {},
   "outputs": [],
   "source": []
  },
  {
   "cell_type": "code",
   "execution_count": null,
   "id": "15ea7432",
   "metadata": {},
   "outputs": [],
   "source": []
  },
  {
   "cell_type": "code",
   "execution_count": null,
   "id": "60ea1e3a",
   "metadata": {},
   "outputs": [],
   "source": []
  },
  {
   "cell_type": "code",
   "execution_count": null,
   "id": "75347ac7",
   "metadata": {},
   "outputs": [],
   "source": []
  },
  {
   "cell_type": "code",
   "execution_count": null,
   "id": "d65a02bf",
   "metadata": {},
   "outputs": [],
   "source": []
  },
  {
   "cell_type": "code",
   "execution_count": null,
   "id": "f1cfb74c",
   "metadata": {},
   "outputs": [],
   "source": []
  }
 ],
 "metadata": {
  "kernelspec": {
   "display_name": "Python 3 (ipykernel)",
   "language": "python",
   "name": "python3"
  },
  "language_info": {
   "codemirror_mode": {
    "name": "ipython",
    "version": 3
   },
   "file_extension": ".py",
   "mimetype": "text/x-python",
   "name": "python",
   "nbconvert_exporter": "python",
   "pygments_lexer": "ipython3",
   "version": "3.10.9"
  }
 },
 "nbformat": 4,
 "nbformat_minor": 5
}
