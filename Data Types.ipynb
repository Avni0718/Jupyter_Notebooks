{
 "cells": [
  {
   "cell_type": "markdown",
   "id": "0974b24b",
   "metadata": {},
   "source": [
    "# Data Types"
   ]
  },
  {
   "cell_type": "code",
   "execution_count": 2,
   "id": "52a64058",
   "metadata": {},
   "outputs": [
    {
     "name": "stdout",
     "output_type": "stream",
     "text": [
      "Hello World\n"
     ]
    }
   ],
   "source": [
    "a=('Hello World')\n",
    "\n",
    "print(a)"
   ]
  },
  {
   "cell_type": "code",
   "execution_count": 3,
   "id": "44df26cb",
   "metadata": {},
   "outputs": [
    {
     "data": {
      "text/plain": [
       "str"
      ]
     },
     "execution_count": 3,
     "metadata": {},
     "output_type": "execute_result"
    }
   ],
   "source": [
    "type(a)"
   ]
  },
  {
   "cell_type": "code",
   "execution_count": 7,
   "id": "432bf880",
   "metadata": {},
   "outputs": [
    {
     "name": "stdout",
     "output_type": "stream",
     "text": [
      "l\n"
     ]
    }
   ],
   "source": [
    "print(a[-2])"
   ]
  },
  {
   "cell_type": "code",
   "execution_count": 8,
   "id": "0dd5dc15",
   "metadata": {},
   "outputs": [
    {
     "data": {
      "text/plain": [
       "'Hello WorldHello WorldHello World'"
      ]
     },
     "execution_count": 8,
     "metadata": {},
     "output_type": "execute_result"
    }
   ],
   "source": [
    "a*3"
   ]
  },
  {
   "cell_type": "code",
   "execution_count": 9,
   "id": "dcfcf1aa",
   "metadata": {},
   "outputs": [
    {
     "data": {
      "text/plain": [
       "' Hello Everyone\\nWe are Learning Python\\nHave a great Learning.'"
      ]
     },
     "execution_count": 9,
     "metadata": {},
     "output_type": "execute_result"
    }
   ],
   "source": [
    "\"\"\" Hello Everyone\n",
    "We are Learning Python\n",
    "Have a great Learning.\"\"\""
   ]
  },
  {
   "cell_type": "code",
   "execution_count": 16,
   "id": "2d0fbea6",
   "metadata": {},
   "outputs": [],
   "source": [
    "Answer = \"\"\"Hello Everyone\n",
    "We are Learning Python\n",
    "Have a great Learning.\"\"\""
   ]
  },
  {
   "cell_type": "code",
   "execution_count": 17,
   "id": "2e1940ef",
   "metadata": {},
   "outputs": [
    {
     "name": "stdout",
     "output_type": "stream",
     "text": [
      "Hello Everyone\n",
      "We are Learning Python\n",
      "Have a great Learning.\n"
     ]
    }
   ],
   "source": [
    "print(Answer)"
   ]
  },
  {
   "cell_type": "code",
   "execution_count": 18,
   "id": "dbfb91ee",
   "metadata": {},
   "outputs": [
    {
     "data": {
      "text/plain": [
       "['Cookie dough', 'Stwarberry', 'Caramel']"
      ]
     },
     "execution_count": 18,
     "metadata": {},
     "output_type": "execute_result"
    }
   ],
   "source": [
    "['Cookie dough','Stwarberry','Caramel']"
   ]
  },
  {
   "cell_type": "code",
   "execution_count": 19,
   "id": "f8111806",
   "metadata": {},
   "outputs": [],
   "source": [
    "ice_cream = ['Cookie dough','Stwarberry','Caramel']"
   ]
  },
  {
   "cell_type": "code",
   "execution_count": 20,
   "id": "04703098",
   "metadata": {},
   "outputs": [
    {
     "data": {
      "text/plain": [
       "['Cookie dough', 'Stwarberry', 'Caramel']"
      ]
     },
     "execution_count": 20,
     "metadata": {},
     "output_type": "execute_result"
    }
   ],
   "source": [
    "ice_cream"
   ]
  },
  {
   "cell_type": "code",
   "execution_count": 22,
   "id": "594aa57b",
   "metadata": {},
   "outputs": [],
   "source": [
    "ice_cream.append('Butterscotch')"
   ]
  },
  {
   "cell_type": "code",
   "execution_count": 23,
   "id": "c26ec5be",
   "metadata": {},
   "outputs": [
    {
     "data": {
      "text/plain": [
       "['Cookie dough', 'Stwarberry', 'Caramel', 'Butterscotch']"
      ]
     },
     "execution_count": 23,
     "metadata": {},
     "output_type": "execute_result"
    }
   ],
   "source": [
    "ice_cream"
   ]
  },
  {
   "cell_type": "code",
   "execution_count": 24,
   "id": "c2feaa8f",
   "metadata": {},
   "outputs": [],
   "source": [
    "ice_cream[0]='Black Current'"
   ]
  },
  {
   "cell_type": "code",
   "execution_count": 25,
   "id": "8bc99650",
   "metadata": {},
   "outputs": [
    {
     "data": {
      "text/plain": [
       "['Black Current', 'Stwarberry', 'Caramel', 'Butterscotch']"
      ]
     },
     "execution_count": 25,
     "metadata": {},
     "output_type": "execute_result"
    }
   ],
   "source": [
    "ice_cream"
   ]
  },
  {
   "cell_type": "code",
   "execution_count": null,
   "id": "3f47503c",
   "metadata": {},
   "outputs": [],
   "source": [
    "# Nest List - List within a list "
   ]
  },
  {
   "cell_type": "code",
   "execution_count": 26,
   "id": "e0b0d320",
   "metadata": {},
   "outputs": [],
   "source": [
    "nest_list=['Vanilla',2,['Scoops','Spoon'],True]"
   ]
  },
  {
   "cell_type": "code",
   "execution_count": 27,
   "id": "19d0deeb",
   "metadata": {},
   "outputs": [
    {
     "data": {
      "text/plain": [
       "['Vanilla', 2, ['Scoops', 'Spoon'], True]"
      ]
     },
     "execution_count": 27,
     "metadata": {},
     "output_type": "execute_result"
    }
   ],
   "source": [
    "nest_list"
   ]
  },
  {
   "cell_type": "code",
   "execution_count": 31,
   "id": "2e3c6a0d",
   "metadata": {},
   "outputs": [
    {
     "data": {
      "text/plain": [
       "'Scoops'"
      ]
     },
     "execution_count": 31,
     "metadata": {},
     "output_type": "execute_result"
    }
   ],
   "source": [
    "nest_list[2][0]"
   ]
  },
  {
   "cell_type": "code",
   "execution_count": 32,
   "id": "0f341673",
   "metadata": {},
   "outputs": [],
   "source": [
    "# Tuples = Similar to list but biggest difference it can not be modified or add after created"
   ]
  },
  {
   "cell_type": "code",
   "execution_count": 33,
   "id": "5b7a76e0",
   "metadata": {},
   "outputs": [],
   "source": [
    "# Comparison operators"
   ]
  },
  {
   "cell_type": "code",
   "execution_count": 34,
   "id": "605d0d5d",
   "metadata": {},
   "outputs": [
    {
     "data": {
      "text/plain": [
       "True"
      ]
     },
     "execution_count": 34,
     "metadata": {},
     "output_type": "execute_result"
    }
   ],
   "source": [
    "10 == 10"
   ]
  },
  {
   "cell_type": "code",
   "execution_count": 36,
   "id": "e8acf918",
   "metadata": {},
   "outputs": [
    {
     "data": {
      "text/plain": [
       "True"
      ]
     },
     "execution_count": 36,
     "metadata": {},
     "output_type": "execute_result"
    }
   ],
   "source": [
    "10 != 40"
   ]
  },
  {
   "cell_type": "code",
   "execution_count": 37,
   "id": "8552edf0",
   "metadata": {},
   "outputs": [],
   "source": [
    "# for loop - dictionary example"
   ]
  },
  {
   "cell_type": "code",
   "execution_count": 38,
   "id": "4f0802dd",
   "metadata": {},
   "outputs": [],
   "source": [
    "ice_dict = {'name': 'Avni Sharma', 'Age' : 24 , 'Favorite color' : ['Blue','Black']}"
   ]
  },
  {
   "cell_type": "code",
   "execution_count": 39,
   "id": "a12e4b2e",
   "metadata": {},
   "outputs": [
    {
     "name": "stdout",
     "output_type": "stream",
     "text": [
      "name\n",
      "Age\n",
      "Favorite color\n"
     ]
    }
   ],
   "source": [
    "for items in ice_dict:\n",
    "    print(items)"
   ]
  },
  {
   "cell_type": "code",
   "execution_count": 42,
   "id": "04f354be",
   "metadata": {},
   "outputs": [
    {
     "name": "stdout",
     "output_type": "stream",
     "text": [
      "Avni Sharma\n",
      "24\n",
      "['Blue', 'Black']\n"
     ]
    }
   ],
   "source": [
    "for items in ice_dict.values():\n",
    "    print(items)"
   ]
  },
  {
   "cell_type": "code",
   "execution_count": 44,
   "id": "eb2beee2",
   "metadata": {},
   "outputs": [
    {
     "name": "stdout",
     "output_type": "stream",
     "text": [
      "name -> Avni Sharma\n",
      "Age -> 24\n",
      "Favorite color -> ['Blue', 'Black']\n"
     ]
    }
   ],
   "source": [
    "for key, value in ice_dict.items():\n",
    "    print(key,'->',value)"
   ]
  },
  {
   "cell_type": "code",
   "execution_count": 45,
   "id": "1a9d813b",
   "metadata": {},
   "outputs": [],
   "source": [
    "# Nested For Loop "
   ]
  },
  {
   "cell_type": "code",
   "execution_count": 46,
   "id": "88119451",
   "metadata": {},
   "outputs": [],
   "source": [
    "Flavors =['Vanilla','Chocolate','Butterscotch']\n",
    "Toppings=['Hot Fudge','oreos','Marshmallows']\n"
   ]
  },
  {
   "cell_type": "code",
   "execution_count": 48,
   "id": "c8cba7fd",
   "metadata": {},
   "outputs": [
    {
     "name": "stdout",
     "output_type": "stream",
     "text": [
      "Vanilla is served with Hot Fudge\n",
      "Vanilla is served with oreos\n",
      "Vanilla is served with Marshmallows\n",
      "Chocolate is served with Hot Fudge\n",
      "Chocolate is served with oreos\n",
      "Chocolate is served with Marshmallows\n",
      "Butterscotch is served with Hot Fudge\n",
      "Butterscotch is served with oreos\n",
      "Butterscotch is served with Marshmallows\n"
     ]
    }
   ],
   "source": [
    "for one in Flavors:\n",
    "    for two in Toppings:\n",
    "        print(one,'is served with',two)"
   ]
  },
  {
   "cell_type": "code",
   "execution_count": null,
   "id": "343cb1d2",
   "metadata": {},
   "outputs": [],
   "source": []
  }
 ],
 "metadata": {
  "kernelspec": {
   "display_name": "Python 3 (ipykernel)",
   "language": "python",
   "name": "python3"
  },
  "language_info": {
   "codemirror_mode": {
    "name": "ipython",
    "version": 3
   },
   "file_extension": ".py",
   "mimetype": "text/x-python",
   "name": "python",
   "nbconvert_exporter": "python",
   "pygments_lexer": "ipython3",
   "version": "3.10.9"
  }
 },
 "nbformat": 4,
 "nbformat_minor": 5
}
